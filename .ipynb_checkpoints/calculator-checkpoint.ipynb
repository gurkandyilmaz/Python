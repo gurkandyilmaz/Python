{
 "cells": [
  {
   "cell_type": "code",
   "execution_count": 21,
   "metadata": {},
   "outputs": [],
   "source": [
    "import re,time\n",
    "\n",
    "\n",
    "def take_input():\n",
    "    \n",
    "    condition = True\n",
    "    regex_numbers_operations = re.compile(r\"\\d+[\\+\\-\\/\\*]*\")\n",
    "    regex_operations_faulty = re.compile(r\"[\\+\\-\\*\\/]{2,}\")\n",
    "    regex_invalid = re.compile(r\"[a-zA-Z]|[\\+\\-\\*\\/]{2,}\")\n",
    "\n",
    "    while condition:\n",
    "        user_input = input(\"Start typing ('q' to exit): \")\n",
    "       \n",
    "        numbers_operations = re.findall(regex_numbers_operations, user_input)\n",
    "        operations_faulty = re.findall(regex_operations_faulty, user_input)\n",
    "        invalid_input = re.findall(regex_invalid,user_input)\n",
    "        \n",
    "        if user_input.lower() == \"q\":\n",
    "##            condition = False\n",
    "            print(\"Closing the calculator...\")\n",
    "            time.sleep(2)\n",
    "            break\n",
    "        elif user_input.lower() == \"\":\n",
    "            print(\"Empty INPUT IS NOT ACCEPTED!!!\\n\")\n",
    "            continue\n",
    "        else:\n",
    "            if len(invalid_input) !=0:\n",
    "                print(\"INVALID INPUT!!!\\n\")\n",
    "                continue\n",
    "            elif user_input[-1] not in [\"0\",\"1\",\"2\",\"3\",\"4\",\"5\",\"6\",\"7\",\"8\",\"9\"]:\n",
    "                print(\"NOT ENDED with a NUMBER!!!\\n\")\n",
    "                continue\n",
    "#  sadece sayı girilirse....\n",
    "            try:\n",
    "                if type(int(user_input)) == int:\n",
    "                    print(\"ONLY SINGLE NUMBER IS NOT ACCEPTED!!!\\n\")\n",
    "                    continue\n",
    "            except:\n",
    "                print(\"INVALID INPUT!!!\\n\")\n",
    "                continue\n",
    "\n",
    "            print(f\"Result of ({''.join(numbers_operations)}) = \", end=\"\")\n",
    "            split_input(numbers_operations)\n",
    "\n",
    "\n",
    "def split_input(input_list):\n",
    "    \n",
    "    operation = []\n",
    "    number = []\n",
    "    \n",
    "    for element in input_list:\n",
    "        if element[-1] in [\"+\",\"-\",\"/\",\"*\"]:\n",
    "            operation.append(element[-1])\n",
    "            number.append(int(element[:-1]))\n",
    "        else:\n",
    "            number.append(int(element))\n",
    "    \n",
    "    return do_processing(number,operation)\n",
    "\n",
    "\n",
    "def do_processing(numbers_only,operations_only):\n",
    "    \n",
    "    deneme_numbers = numbers_only\n",
    "    deneme_operations = operations_only\n",
    "    calculation_result = []\n",
    "    \n",
    "    for i in range(len(deneme_operations)):\n",
    "        res = do_operation(deneme_numbers[:2], deneme_operations[i])\n",
    "        calculation_result = deneme_numbers[2:]\n",
    "#         print(\"Before: \", new)\n",
    "        calculation_result.insert(0,res)\n",
    "#         print(new)\n",
    "        deneme_numbers = calculation_result\n",
    "    \n",
    "    print(calculation_result[0],\"\\n\")\n",
    "\n",
    "\n",
    "def do_operation(number_pairs,oper_type):\n",
    "    try:\n",
    "        if oper_type == \"+\":\n",
    "            return number_pairs[0]+number_pairs[1]\n",
    "        elif oper_type == \"-\":\n",
    "            return number_pairs[0]-number_pairs[1]\n",
    "        elif oper_type == \"/\":\n",
    "            return number_pairs[0]/number_pairs[1]\n",
    "        elif oper_type == \"*\":\n",
    "            return number_pairs[0]*number_pairs[1]\n",
    "    \n",
    "    except IndexError:\n",
    "        return \"Input is INVALID. Try Again.\\n\"\n",
    "        \n",
    "        "
   ]
  },
  {
   "cell_type": "code",
   "execution_count": 22,
   "metadata": {},
   "outputs": [
    {
     "name": "stdout",
     "output_type": "stream",
     "text": [
      "Start typing ('q' to exit): 45++asd54ad\n",
      "INVALID INPUT!!!\n",
      "\n",
      "Start typing ('q' to exit): 45++8/+842\n",
      "INVALID INPUT!!!\n",
      "\n",
      "Start typing ('q' to exit): 4asd654wead+\n",
      "INVALID INPUT!!!\n",
      "\n",
      "Start typing ('q' to exit): 45+78+24/\n",
      "NOT ENDED with a NUMBER!!!\n",
      "\n",
      "Start typing ('q' to exit): 458+52/10-90*3\n",
      "INVALID INPUT!!!\n",
      "\n",
      "Start typing ('q' to exit): 25\n",
      "ONLY SINGLE NUMBER IS NOT ACCEPTED!!!\n",
      "\n",
      "Start typing ('q' to exit): 25+41\n",
      "INVALID INPUT!!!\n",
      "\n",
      "Start typing ('q' to exit): q\n",
      "Closing the calculator...\n"
     ]
    }
   ],
   "source": [
    "if __name__ == \"__main__\": \n",
    "    take_input()\n"
   ]
  },
  {
   "cell_type": "code",
   "execution_count": null,
   "metadata": {},
   "outputs": [],
   "source": []
  },
  {
   "cell_type": "code",
   "execution_count": 12,
   "metadata": {},
   "outputs": [
    {
     "data": {
      "text/plain": [
       "['25', '35', '451', '8']"
      ]
     },
     "execution_count": 12,
     "metadata": {},
     "output_type": "execute_result"
    }
   ],
   "source": [
    "re.findall(r\"[0-9]+\",\"25+35/-451+8\")"
   ]
  },
  {
   "cell_type": "code",
   "execution_count": 15,
   "metadata": {
    "scrolled": true
   },
   "outputs": [
    {
     "name": "stdout",
     "output_type": "stream",
     "text": [
      "Start typing ('q' to exit): a456dasd\n",
      "ONLY INTEGERS NOT ALLOWED\n"
     ]
    }
   ],
   "source": [
    "user_input = input(\"Start typing ('q' to exit): \")\n",
    "try:\n",
    "    if type(int(user_input)) == int:\n",
    "        print(\"INTEGER\")\n",
    "except:\n",
    "    print(\"ONLY INTEGERS NOT ALLOWED\")\n",
    "            "
   ]
  },
  {
   "cell_type": "code",
   "execution_count": 5,
   "metadata": {},
   "outputs": [
    {
     "name": "stdout",
     "output_type": "stream",
     "text": [
      "Start typing ('q' to exit): 25++6asd+++asd5/*+5/+-/+asd52\n",
      "['++', 'a', 's', 'd', '+++', 'a', 's', 'd', '/*+', '/+-/+', 'a', 's', 'd']\n",
      "['25++', '6', '5/*+', '5/+-/+', '52']\n",
      "['++', '+++', '/*+', '/+-/+']\n"
     ]
    }
   ],
   "source": [
    "import re\n",
    "\n",
    "regex_numbers_operations = re.compile(r\"\\d+[\\+\\-\\/\\*]*\")\n",
    "regex_operations_faulty = re.compile(r\"[\\+\\-\\*\\/]{2,}\")\n",
    "regex_invalid = re.compile(r\"[a-zA-Z]|[\\+\\-\\*\\/]{2,}\")\n",
    "\n",
    "user_input = input(\"Start typing ('q' to exit): \")\n",
    "   \n",
    "numbers_operations = re.findall(regex_numbers_operations, user_input)\n",
    "operations_faulty = re.findall(regex_operations_faulty, user_input)\n",
    "invalid_input = re.findall(regex_invalid,user_input)\n",
    "\n",
    "print(invalid_input)\n",
    "print(numbers_operations)\n",
    "print(operations_faulty)"
   ]
  },
  {
   "cell_type": "code",
   "execution_count": 19,
   "metadata": {},
   "outputs": [
    {
     "name": "stdout",
     "output_type": "stream",
     "text": [
      "r a n g e ( 0 ,   1 0 )\n"
     ]
    }
   ],
   "source": [
    "print(*str(range(0,10)))"
   ]
  }
 ],
 "metadata": {
  "kernelspec": {
   "display_name": "Python 3",
   "language": "python",
   "name": "python3"
  },
  "language_info": {
   "codemirror_mode": {
    "name": "ipython",
    "version": 3
   },
   "file_extension": ".py",
   "mimetype": "text/x-python",
   "name": "python",
   "nbconvert_exporter": "python",
   "pygments_lexer": "ipython3",
   "version": "3.6.9"
  }
 },
 "nbformat": 4,
 "nbformat_minor": 2
}
