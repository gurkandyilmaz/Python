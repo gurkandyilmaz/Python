{
 "cells": [
  {
   "cell_type": "code",
   "execution_count": 134,
   "metadata": {},
   "outputs": [],
   "source": [
    "numbers = [\"25+\",\"15-\",\"5+\",\"10*\",\"20+\",\"12\"]"
   ]
  },
  {
   "cell_type": "code",
   "execution_count": 135,
   "metadata": {},
   "outputs": [],
   "source": [
    "def split_input(x):\n",
    "    \n",
    "    operation = []\n",
    "    number = []\n",
    "    for element in x:\n",
    "        if element[-1] in [\"+\",\"-\",\"/\",\"*\"]:\n",
    "            operation.append(element[-1])\n",
    "            number.append(int(element[:-1]))\n",
    "        else:\n",
    "            number.append(int(element))\n",
    "    \n",
    "    return (number,operation)\n"
   ]
  },
  {
   "cell_type": "code",
   "execution_count": 136,
   "metadata": {},
   "outputs": [],
   "source": [
    "def select_operation(x,oper_type):\n",
    "\n",
    "    if oper_type == \"+\":\n",
    "        return x[0]+x[1]\n",
    "    elif oper_type == \"-\":\n",
    "        return x[0]-x[1]\n",
    "    elif oper_type == \"/\":\n",
    "        return x[0]/x[1]\n",
    "    elif oper_type == \"*\":\n",
    "        return x[0]*x[1]\n",
    "\n",
    "\n",
    "    "
   ]
  },
  {
   "cell_type": "code",
   "execution_count": 137,
   "metadata": {},
   "outputs": [
    {
     "name": "stdout",
     "output_type": "stream",
     "text": [
      "Numbers: [25, 15, 5, 10, 20, 12] \n",
      "Operations: ['+', '-', '+', '*', '+']\n"
     ]
    }
   ],
   "source": [
    "result = split_input(numbers)\n",
    "# print(result)\n",
    "print(f\"Numbers: {result[0]} \\nOperations: {result[1]}\")"
   ]
  },
  {
   "cell_type": "code",
   "execution_count": 145,
   "metadata": {},
   "outputs": [],
   "source": [
    "\n"
   ]
  },
  {
   "cell_type": "code",
   "execution_count": 147,
   "metadata": {},
   "outputs": [
    {
     "name": "stdout",
     "output_type": "stream",
     "text": [
      "Before:  [5, 10, 20, 12]\n",
      "[40, 5, 10, 20, 12]\n",
      "Before:  [10, 20, 12]\n",
      "[35, 10, 20, 12]\n",
      "Before:  [20, 12]\n",
      "[45, 20, 12]\n",
      "Before:  [12]\n",
      "[900, 12]\n",
      "Before:  []\n",
      "[912]\n"
     ]
    }
   ],
   "source": [
    "deneme_numbers = result[0]\n",
    "deneme_operations = result[1]\n",
    "new = []\n",
    "\n",
    "for i in range(len(deneme_operations)):\n",
    "    res = select_operation(deneme_numbers[:2], deneme_operations[i])\n",
    "    new = deneme_numbers[2:]\n",
    "    print(\"Before: \", new)\n",
    "    new.insert(0,res)\n",
    "    print(new)\n",
    "    deneme_numbers = new\n"
   ]
  },
  {
   "cell_type": "code",
   "execution_count": 149,
   "metadata": {
    "scrolled": false
   },
   "outputs": [
    {
     "data": {
      "text/plain": [
       "912"
      ]
     },
     "execution_count": 149,
     "metadata": {},
     "output_type": "execute_result"
    }
   ],
   "source": [
    "new[0]"
   ]
  },
  {
   "cell_type": "code",
   "execution_count": 129,
   "metadata": {},
   "outputs": [],
   "source": [
    "a = [1,2,3,4]\n",
    "\n"
   ]
  },
  {
   "cell_type": "code",
   "execution_count": 130,
   "metadata": {},
   "outputs": [],
   "source": [
    "a.insert(0,10)"
   ]
  },
  {
   "cell_type": "code",
   "execution_count": 131,
   "metadata": {},
   "outputs": [
    {
     "data": {
      "text/plain": [
       "[10, 1, 2, 3, 4]"
      ]
     },
     "execution_count": 131,
     "metadata": {},
     "output_type": "execute_result"
    }
   ],
   "source": [
    "a"
   ]
  }
 ],
 "metadata": {
  "kernelspec": {
   "display_name": "Python 3",
   "language": "python",
   "name": "python3"
  },
  "language_info": {
   "codemirror_mode": {
    "name": "ipython",
    "version": 3
   },
   "file_extension": ".py",
   "mimetype": "text/x-python",
   "name": "python",
   "nbconvert_exporter": "python",
   "pygments_lexer": "ipython3",
   "version": "3.7.5"
  }
 },
 "nbformat": 4,
 "nbformat_minor": 2
}
