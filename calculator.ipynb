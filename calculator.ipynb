{
 "cells": [
  {
   "cell_type": "code",
   "execution_count": 69,
   "metadata": {},
   "outputs": [],
   "source": [
    "import re,time\n",
    "\"\"\"\n",
    "\n",
    "Calculator: it takes an input from the user and compute its result.\n",
    "Usage: Type the expression in the form of 24/12+4-5 then press enter, \n",
    "    it will return 1 or rounded to 3 version if applicable.\n",
    "Available operations: Only +,-,*,/\n",
    "    \n",
    "\"\"\"\n",
    "\n",
    "# take the input from the user\n",
    "def take_input():\n",
    "    # Create regex objects to extract the numbers and operationns from user input\n",
    "    condition = True\n",
    "    regex_numbers_operations = re.compile(r\"\\d+[\\+\\-\\/\\*]*\")\n",
    "    regex_operations_faulty = re.compile(r\"[\\+\\-\\*\\/]{2,}\")\n",
    "    regex_invalid = re.compile(r\"[a-zA-Z]|[\\+\\-\\*\\/]{2,}\")\n",
    "\n",
    "    while condition:\n",
    "        user_input = input(\"Start typing ('q' to exit): \")\n",
    "       \n",
    "        numbers_operations = re.findall(regex_numbers_operations, user_input)\n",
    "        operations_faulty = re.findall(regex_operations_faulty, user_input)\n",
    "        invalid_input = re.findall(regex_invalid,user_input)\n",
    "        \n",
    "        # Check the input\n",
    "        if user_input.lower() == \"q\":\n",
    "            print(\"Closing the calculator...\")\n",
    "            time.sleep(2)\n",
    "            break\n",
    "        elif user_input.lower() == \"\":\n",
    "            print(\"Empty INPUT IS NOT ACCEPTED!!!\\n\")\n",
    "            continue\n",
    "        else:\n",
    "            # Check the validity of the input\n",
    "            if len(invalid_input)==0 and len(operations_faulty)==0 :\n",
    "                try:\n",
    "                    result = split_input(numbers_operations)\n",
    "                    print(f\"Result of ({''.join(numbers_operations)}) = {result}\\n\")\n",
    "                except IndexError:\n",
    "                    print(\"INVALID INPUT!\\n\")\n",
    "                    continue      \n",
    "            else:\n",
    "                # Check the in-validity of the input\n",
    "                if len(invalid_input) !=0:\n",
    "                    print(\"INVALID INPUT!!\\n\")\n",
    "                    continue\n",
    "                    \n",
    "                    \n",
    "# Into numbers and operations\n",
    "def split_input(input_list):\n",
    "    \n",
    "    operation = []\n",
    "    number = []\n",
    "    \n",
    "    for element in input_list:\n",
    "        if element[-1] in [\"+\",\"-\",\"/\",\"*\"]:\n",
    "            operation.append(element[-1])\n",
    "            number.append(int(element[:-1]))\n",
    "        else:\n",
    "            number.append(int(element))\n",
    "    \n",
    "    return do_processing(number,operation)\n",
    "\n",
    "\n",
    "# Make the numbers ready for the calculation\n",
    "def do_processing(numbers_only,operations_only):\n",
    "    \n",
    "    calculation_result = []\n",
    "    \n",
    "    for i in range(len(operations_only)):\n",
    "        res = do_operation(numbers_only[:2], operations_only[i])\n",
    "        calculation_result = numbers_only[2:]\n",
    "        calculation_result.insert(0,res)\n",
    "        numbers_only = calculation_result\n",
    "    \n",
    "    return calculation_result[0]\n",
    "\n",
    "    \n",
    "# Calculations\n",
    "def do_operation(number_pairs,oper_type):\n",
    "\n",
    "    if oper_type == \"+\":\n",
    "        return round(number_pairs[0]+number_pairs[1], 3)\n",
    "    elif oper_type == \"-\":\n",
    "        return round(number_pairs[0]-number_pairs[1], 3)\n",
    "    elif oper_type == \"/\":\n",
    "        return round(number_pairs[0]/number_pairs[1], 3)\n",
    "    elif oper_type == \"*\":\n",
    "        return round(number_pairs[0]*number_pairs[1], 3)\n",
    "\n"
   ]
  },
  {
   "cell_type": "code",
   "execution_count": 70,
   "metadata": {},
   "outputs": [
    {
     "name": "stdout",
     "output_type": "stream",
     "text": [
      "Start typing ('q' to exit): q\n",
      "Closing the calculator...\n"
     ]
    }
   ],
   "source": [
    "if __name__ == \"__main__\": \n",
    "    take_input()\n"
   ]
  },
  {
   "cell_type": "code",
   "execution_count": null,
   "metadata": {
    "scrolled": true
   },
   "outputs": [],
   "source": [
    "    try:\n",
    "        if oper_type == \"+\":\n",
    "            return round(number_pairs[0]+number_pairs[1], 3)\n",
    "        elif oper_type == \"-\":\n",
    "            return round(number_pairs[0]-number_pairs[1], 3)\n",
    "        elif oper_type == \"/\":\n",
    "            return round(number_pairs[0]/number_pairs[1], 3)\n",
    "        elif oper_type == \"*\":\n",
    "            return round(number_pairs[0]*number_pairs[1], 3)\n",
    "    except IndexError:\n",
    "        return \"INVALID INPUT!\""
   ]
  },
  {
   "cell_type": "code",
   "execution_count": null,
   "metadata": {},
   "outputs": [],
   "source": []
  },
  {
   "cell_type": "code",
   "execution_count": null,
   "metadata": {},
   "outputs": [],
   "source": []
  }
 ],
 "metadata": {
  "kernelspec": {
   "display_name": "Python 3",
   "language": "python",
   "name": "python3"
  },
  "language_info": {
   "codemirror_mode": {
    "name": "ipython",
    "version": 3
   },
   "file_extension": ".py",
   "mimetype": "text/x-python",
   "name": "python",
   "nbconvert_exporter": "python",
   "pygments_lexer": "ipython3",
   "version": "3.6.9"
  }
 },
 "nbformat": 4,
 "nbformat_minor": 2
}
