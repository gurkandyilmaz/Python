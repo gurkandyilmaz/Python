{
 "cells": [
  {
   "cell_type": "code",
   "execution_count": 191,
   "metadata": {},
   "outputs": [],
   "source": [
    "numbers = [\"25+\",\"15-\",\"5+\",\"10*\",\"5+\",\"12-\",\"200\"]"
   ]
  },
  {
   "cell_type": "code",
   "execution_count": 187,
   "metadata": {},
   "outputs": [],
   "source": [
    "def split_input(x):\n",
    "    \n",
    "    operation = []\n",
    "    number = []\n",
    "    for element in x:\n",
    "        if element[-1] in [\"+\",\"-\",\"/\",\"*\"]:\n",
    "            operation.append(element[-1])\n",
    "            number.append(int(element[:-1]))\n",
    "        else:\n",
    "            number.append(int(element))\n",
    "    \n",
    "    return (number,operation)\n"
   ]
  },
  {
   "cell_type": "code",
   "execution_count": 188,
   "metadata": {},
   "outputs": [],
   "source": [
    "def make_processing(results):\n",
    "    deneme_numbers = results[0]\n",
    "    deneme_operations = results[1]\n",
    "    new = []\n",
    "    \n",
    "    for i in range(len(deneme_operations)):\n",
    "        res = do_operation(deneme_numbers[:2], deneme_operations[i])\n",
    "        new = deneme_numbers[2:]\n",
    "#         print(\"Before: \", new)\n",
    "        new.insert(0,res)\n",
    "#         print(new)\n",
    "        deneme_numbers = new\n",
    "    \n",
    "    return new[0]\n"
   ]
  },
  {
   "cell_type": "code",
   "execution_count": 189,
   "metadata": {},
   "outputs": [],
   "source": [
    "def do_operation(x,oper_type):\n",
    "\n",
    "    if oper_type == \"+\":\n",
    "        return x[0]+x[1]\n",
    "    elif oper_type == \"-\":\n",
    "        return x[0]-x[1]\n",
    "    elif oper_type == \"/\":\n",
    "        return x[0]/x[1]\n",
    "    elif oper_type == \"*\":\n",
    "        return x[0]*x[1]"
   ]
  },
  {
   "cell_type": "code",
   "execution_count": 192,
   "metadata": {},
   "outputs": [
    {
     "name": "stdout",
     "output_type": "stream",
     "text": [
      "Result of (25+15-5+10*5+12-200) = 37\n"
     ]
    }
   ],
   "source": [
    "print(\"Result of ({0}) = {1}\".format(\"\".join(numbers),make_processing(split_input(numbers))))"
   ]
  },
  {
   "cell_type": "code",
   "execution_count": null,
   "metadata": {},
   "outputs": [],
   "source": []
  },
  {
   "cell_type": "code",
   "execution_count": null,
   "metadata": {},
   "outputs": [],
   "source": [
    "\n"
   ]
  }
 ],
 "metadata": {
  "kernelspec": {
   "display_name": "Python 3",
   "language": "python",
   "name": "python3"
  },
  "language_info": {
   "codemirror_mode": {
    "name": "ipython",
    "version": 3
   },
   "file_extension": ".py",
   "mimetype": "text/x-python",
   "name": "python",
   "nbconvert_exporter": "python",
   "pygments_lexer": "ipython3",
   "version": "3.7.5"
  }
 },
 "nbformat": 4,
 "nbformat_minor": 2
}
